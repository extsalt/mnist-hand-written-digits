{
 "cells": [
  {
   "cell_type": "markdown",
   "source": "# MNIST\n\nMNIST hand written digits",
   "metadata": {
    "cell_id": "3599f9d4-6666-4455-8015-de79af406f30",
    "deepnote_cell_type": "markdown",
    "deepnote_cell_height": 120.390625
   }
  },
  {
   "cell_type": "code",
   "source": "from tensorflow import keras\nfrom keras import layers, models, datasets\nfrom tensorflow.keras.utils import to_categorical",
   "metadata": {
    "cell_id": "0abb5b9a-987b-4a48-9905-c82c7c3ed7e4",
    "tags": [],
    "deepnote_to_be_reexecuted": false,
    "source_hash": "6a28cb3d",
    "execution_start": 1647723939486,
    "execution_millis": 0,
    "deepnote_cell_type": "code",
    "deepnote_cell_height": 117
   },
   "outputs": [],
   "execution_count": null
  },
  {
   "cell_type": "code",
   "source": "(train_data, train_label), (test_data, test_label) = datasets.mnist.load_data()",
   "metadata": {
    "cell_id": "d4f220ae-7eec-4a20-bf55-2d67ff947052",
    "tags": [],
    "deepnote_to_be_reexecuted": false,
    "source_hash": "9c02d7f3",
    "execution_start": 1647721618094,
    "execution_millis": 577,
    "deepnote_cell_type": "code",
    "deepnote_cell_height": 152
   },
   "outputs": [
    {
     "name": "stdout",
     "text": "Downloading data from https://storage.googleapis.com/tensorflow/tf-keras-datasets/mnist.npz\n11493376/11490434 [==============================] - 0s 0us/step\n11501568/11490434 [==============================] - 0s 0us/step\n",
     "output_type": "stream"
    }
   ],
   "execution_count": null
  },
  {
   "cell_type": "code",
   "source": "train_data = train_data.reshape((60000, 28*28))\ntrain_data = train_data.astype('float32') / 255 \ntest_data = test_data.reshape((10000, 28*28))\ntest_data = test_data.astype('float32') / 255",
   "metadata": {
    "cell_id": "0ea4cb5c-7f42-416f-87a0-fbbb13018fee",
    "tags": [],
    "deepnote_to_be_reexecuted": false,
    "source_hash": "7e574ef8",
    "execution_start": 1647724048731,
    "execution_millis": 180,
    "deepnote_cell_type": "code",
    "deepnote_cell_height": 135
   },
   "outputs": [],
   "execution_count": null
  },
  {
   "cell_type": "code",
   "source": "train_label = to_categorical(train_label)\ntest_label = to_categorical(test_label)",
   "metadata": {
    "cell_id": "67f1f2d6-1898-4a23-8cd8-a93f3621b566",
    "tags": [],
    "deepnote_to_be_reexecuted": false,
    "source_hash": "30ffde0d",
    "execution_start": 1647723945254,
    "execution_millis": 7,
    "deepnote_cell_type": "code",
    "deepnote_cell_height": 99
   },
   "outputs": [],
   "execution_count": null
  },
  {
   "cell_type": "code",
   "source": "network = models.Sequential()\nnetwork.add(layers.Dense(512, activation='relu', input_shape=(28*28,)))\nnetwork.add(layers.Dense(10, activation='softmax')",
   "metadata": {
    "cell_id": "b4b836cf-c6b6-4908-b219-9d79a5a84ea8",
    "tags": [],
    "deepnote_to_be_reexecuted": false,
    "source_hash": "206b0df6",
    "execution_start": 1647723457359,
    "execution_millis": 22,
    "deepnote_cell_type": "code",
    "deepnote_cell_height": 117
   },
   "outputs": [],
   "execution_count": null
  },
  {
   "cell_type": "code",
   "source": "network.compile(optimizer='rmsprop',loss='categorical_crossentropy',metrics=['accuracy'])",
   "metadata": {
    "cell_id": "ab2122d0-21a6-4b18-9127-668237e1097b",
    "tags": [],
    "deepnote_to_be_reexecuted": false,
    "source_hash": "87757b94",
    "execution_start": 1647723541596,
    "execution_millis": 0,
    "deepnote_cell_type": "code",
    "deepnote_cell_height": 81
   },
   "outputs": [],
   "execution_count": null
  },
  {
   "cell_type": "code",
   "source": "network.fit(train_data, train_label, epochs=100)",
   "metadata": {
    "cell_id": "58897785-0668-4a01-9469-062e78f5ad66",
    "tags": [],
    "deepnote_to_be_reexecuted": false,
    "source_hash": "e0ac33c9",
    "execution_start": 1647724080927,
    "execution_millis": 908227,
    "deepnote_cell_type": "code",
    "deepnote_cell_height": 753.1875,
    "deepnote_output_heights": [
     null,
     21.1875
    ]
   },
   "outputs": [
    {
     "name": "stdout",
     "text": "Epoch 1/100\n1875/1875 [==============================] - 9s 5ms/step - loss: 2.3013 - accuracy: 0.1119\nEpoch 2/100\n1875/1875 [==============================] - 9s 5ms/step - loss: 2.3006 - accuracy: 0.1124\nEpoch 3/100\n1875/1875 [==============================] - 9s 5ms/step - loss: 2.2974 - accuracy: 0.1127\nEpoch 4/100\n1875/1875 [==============================] - 9s 5ms/step - loss: 2.2881 - accuracy: 0.1350\nEpoch 5/100\n1875/1875 [==============================] - 9s 5ms/step - loss: 2.2705 - accuracy: 0.1702\nEpoch 6/100\n1875/1875 [==============================] - 9s 5ms/step - loss: 2.2444 - accuracy: 0.1953\nEpoch 7/100\n1875/1875 [==============================] - 9s 5ms/step - loss: 2.2102 - accuracy: 0.2209\nEpoch 8/100\n1875/1875 [==============================] - 9s 5ms/step - loss: 2.1693 - accuracy: 0.2343\nEpoch 9/100\n1875/1875 [==============================] - 9s 5ms/step - loss: 2.1237 - accuracy: 0.2768\nEpoch 10/100\n1875/1875 [==============================] - 9s 5ms/step - loss: 2.0747 - accuracy: 0.3045\nEpoch 11/100\n1875/1875 [==============================] - 9s 5ms/step - loss: 2.0236 - accuracy: 0.3439\nEpoch 12/100\n1875/1875 [==============================] - 9s 5ms/step - loss: 1.9711 - accuracy: 0.3808\nEpoch 13/100\n1875/1875 [==============================] - 9s 5ms/step - loss: 1.9181 - accuracy: 0.4053\nEpoch 14/100\n1875/1875 [==============================] - 9s 5ms/step - loss: 1.8663 - accuracy: 0.4309\nEpoch 15/100\n1875/1875 [==============================] - 9s 5ms/step - loss: 1.8147 - accuracy: 0.4481\nEpoch 16/100\n1875/1875 [==============================] - 9s 5ms/step - loss: 1.7644 - accuracy: 0.4651\nEpoch 17/100\n1875/1875 [==============================] - 9s 5ms/step - loss: 1.7152 - accuracy: 0.4827\nEpoch 18/100\n1875/1875 [==============================] - 9s 5ms/step - loss: 1.6667 - accuracy: 0.4965\nEpoch 19/100\n1875/1875 [==============================] - 9s 5ms/step - loss: 1.6200 - accuracy: 0.5096\nEpoch 20/100\n1875/1875 [==============================] - 9s 5ms/step - loss: 1.5756 - accuracy: 0.5224\nEpoch 21/100\n1875/1875 [==============================] - 9s 5ms/step - loss: 1.5322 - accuracy: 0.5333\nEpoch 22/100\n1875/1875 [==============================] - 9s 5ms/step - loss: 1.4902 - accuracy: 0.5460\nEpoch 23/100\n1875/1875 [==============================] - 9s 5ms/step - loss: 1.4512 - accuracy: 0.5579\nEpoch 24/100\n1875/1875 [==============================] - 9s 5ms/step - loss: 1.4129 - accuracy: 0.5660\nEpoch 25/100\n1875/1875 [==============================] - 9s 5ms/step - loss: 1.3766 - accuracy: 0.5760\nEpoch 26/100\n1875/1875 [==============================] - 9s 5ms/step - loss: 1.3423 - accuracy: 0.5830\nEpoch 27/100\n1875/1875 [==============================] - 9s 5ms/step - loss: 1.3100 - accuracy: 0.5964\nEpoch 28/100\n1875/1875 [==============================] - 9s 5ms/step - loss: 1.2786 - accuracy: 0.6032\nEpoch 29/100\n1875/1875 [==============================] - 9s 5ms/step - loss: 1.2492 - accuracy: 0.6121\nEpoch 30/100\n1875/1875 [==============================] - 9s 5ms/step - loss: 1.2218 - accuracy: 0.6183\nEpoch 31/100\n1875/1875 [==============================] - 9s 5ms/step - loss: 1.1954 - accuracy: 0.6264\nEpoch 32/100\n1875/1875 [==============================] - 9s 5ms/step - loss: 1.1702 - accuracy: 0.6350\nEpoch 33/100\n1875/1875 [==============================] - 9s 5ms/step - loss: 1.1468 - accuracy: 0.6398\nEpoch 34/100\n1875/1875 [==============================] - 9s 5ms/step - loss: 1.1247 - accuracy: 0.6461\nEpoch 35/100\n1875/1875 [==============================] - 9s 5ms/step - loss: 1.1035 - accuracy: 0.6529\nEpoch 36/100\n1875/1875 [==============================] - 9s 5ms/step - loss: 1.0830 - accuracy: 0.6604\nEpoch 37/100\n1875/1875 [==============================] - 9s 5ms/step - loss: 1.0643 - accuracy: 0.6667\nEpoch 38/100\n1875/1875 [==============================] - 9s 5ms/step - loss: 1.0463 - accuracy: 0.6721\nEpoch 39/100\n1875/1875 [==============================] - 9s 5ms/step - loss: 1.0289 - accuracy: 0.6767\nEpoch 40/100\n1875/1875 [==============================] - 9s 5ms/step - loss: 1.0124 - accuracy: 0.6802\nEpoch 41/100\n1875/1875 [==============================] - 9s 5ms/step - loss: 0.9970 - accuracy: 0.6865\nEpoch 42/100\n1875/1875 [==============================] - 9s 5ms/step - loss: 0.9817 - accuracy: 0.6921\nEpoch 43/100\n1875/1875 [==============================] - 9s 5ms/step - loss: 0.9672 - accuracy: 0.6956\nEpoch 44/100\n1875/1875 [==============================] - 9s 5ms/step - loss: 0.9534 - accuracy: 0.7016\nEpoch 45/100\n1875/1875 [==============================] - 9s 5ms/step - loss: 0.9403 - accuracy: 0.7050\nEpoch 46/100\n1875/1875 [==============================] - 9s 5ms/step - loss: 0.9274 - accuracy: 0.7098\nEpoch 47/100\n1875/1875 [==============================] - 9s 5ms/step - loss: 0.9156 - accuracy: 0.7145\nEpoch 48/100\n1875/1875 [==============================] - 9s 5ms/step - loss: 0.9033 - accuracy: 0.7175\nEpoch 49/100\n1875/1875 [==============================] - 9s 5ms/step - loss: 0.8921 - accuracy: 0.7208\nEpoch 50/100\n1875/1875 [==============================] - 9s 5ms/step - loss: 0.8812 - accuracy: 0.7271\nEpoch 51/100\n1875/1875 [==============================] - 9s 5ms/step - loss: 0.8702 - accuracy: 0.7300\nEpoch 52/100\n1875/1875 [==============================] - 9s 5ms/step - loss: 0.8605 - accuracy: 0.7322\nEpoch 53/100\n1875/1875 [==============================] - 9s 5ms/step - loss: 0.8503 - accuracy: 0.7364\nEpoch 54/100\n1875/1875 [==============================] - 9s 5ms/step - loss: 0.8407 - accuracy: 0.7387\nEpoch 55/100\n1875/1875 [==============================] - 9s 5ms/step - loss: 0.8311 - accuracy: 0.7441\nEpoch 56/100\n1875/1875 [==============================] - 9s 5ms/step - loss: 0.8221 - accuracy: 0.7479\nEpoch 57/100\n1875/1875 [==============================] - 9s 5ms/step - loss: 0.8131 - accuracy: 0.7512\nEpoch 58/100\n1875/1875 [==============================] - 9s 5ms/step - loss: 0.8043 - accuracy: 0.7545\nEpoch 59/100\n1875/1875 [==============================] - 10s 5ms/step - loss: 0.7956 - accuracy: 0.7573\nEpoch 60/100\n1875/1875 [==============================] - 9s 5ms/step - loss: 0.7875 - accuracy: 0.7601\nEpoch 61/100\n1875/1875 [==============================] - 9s 5ms/step - loss: 0.7792 - accuracy: 0.7637\nEpoch 62/100\n1875/1875 [==============================] - 9s 5ms/step - loss: 0.7716 - accuracy: 0.7670\nEpoch 63/100\n1875/1875 [==============================] - 9s 5ms/step - loss: 0.7633 - accuracy: 0.7700\nEpoch 64/100\n1875/1875 [==============================] - 9s 5ms/step - loss: 0.7553 - accuracy: 0.7727\nEpoch 65/100\n1875/1875 [==============================] - 9s 5ms/step - loss: 0.7487 - accuracy: 0.7759\nEpoch 66/100\n1875/1875 [==============================] - 9s 5ms/step - loss: 0.7410 - accuracy: 0.7774\nEpoch 67/100\n1875/1875 [==============================] - 9s 5ms/step - loss: 0.7334 - accuracy: 0.7813\nEpoch 68/100\n1875/1875 [==============================] - 9s 5ms/step - loss: 0.7261 - accuracy: 0.7836\nEpoch 69/100\n1875/1875 [==============================] - 9s 5ms/step - loss: 0.7192 - accuracy: 0.7868\nEpoch 70/100\n1875/1875 [==============================] - 9s 5ms/step - loss: 0.7126 - accuracy: 0.7883\nEpoch 71/100\n1875/1875 [==============================] - 9s 5ms/step - loss: 0.7055 - accuracy: 0.7926\nEpoch 72/100\n1875/1875 [==============================] - 9s 5ms/step - loss: 0.6987 - accuracy: 0.7951\nEpoch 73/100\n1875/1875 [==============================] - 9s 5ms/step - loss: 0.6925 - accuracy: 0.7969\nEpoch 74/100\n1875/1875 [==============================] - 9s 5ms/step - loss: 0.6862 - accuracy: 0.7995\nEpoch 75/100\n1875/1875 [==============================] - 9s 5ms/step - loss: 0.6799 - accuracy: 0.8012\nEpoch 76/100\n1875/1875 [==============================] - 9s 5ms/step - loss: 0.6741 - accuracy: 0.8024\nEpoch 77/100\n1875/1875 [==============================] - 9s 5ms/step - loss: 0.6681 - accuracy: 0.8058\nEpoch 78/100\n1875/1875 [==============================] - 9s 5ms/step - loss: 0.6616 - accuracy: 0.8065\nEpoch 79/100\n1875/1875 [==============================] - 9s 5ms/step - loss: 0.6560 - accuracy: 0.8105\nEpoch 80/100\n1875/1875 [==============================] - 11s 6ms/step - loss: 0.6502 - accuracy: 0.8128\nEpoch 81/100\n1875/1875 [==============================] - 14s 8ms/step - loss: 0.6445 - accuracy: 0.8133\nEpoch 82/100\n1875/1875 [==============================] - 14s 7ms/step - loss: 0.6391 - accuracy: 0.8155\nEpoch 83/100\n1875/1875 [==============================] - 14s 8ms/step - loss: 0.6336 - accuracy: 0.8164\nEpoch 84/100\n1875/1875 [==============================] - 13s 7ms/step - loss: 0.6285 - accuracy: 0.8191\nEpoch 85/100\n1875/1875 [==============================] - 12s 6ms/step - loss: 0.6232 - accuracy: 0.8197\nEpoch 86/100\n1875/1875 [==============================] - 9s 5ms/step - loss: 0.6183 - accuracy: 0.8222\nEpoch 87/100\n1875/1875 [==============================] - 9s 5ms/step - loss: 0.6133 - accuracy: 0.8233\nEpoch 88/100\n1875/1875 [==============================] - 9s 5ms/step - loss: 0.6078 - accuracy: 0.8251\nEpoch 89/100\n1875/1875 [==============================] - 9s 5ms/step - loss: 0.6035 - accuracy: 0.8257\nEpoch 90/100\n1875/1875 [==============================] - 9s 5ms/step - loss: 0.5986 - accuracy: 0.8279\nEpoch 91/100\n1875/1875 [==============================] - 9s 5ms/step - loss: 0.5940 - accuracy: 0.8281\nEpoch 92/100\n1875/1875 [==============================] - 9s 5ms/step - loss: 0.5897 - accuracy: 0.8309\nEpoch 93/100\n1875/1875 [==============================] - 9s 5ms/step - loss: 0.5855 - accuracy: 0.8322\nEpoch 94/100\n1875/1875 [==============================] - 9s 5ms/step - loss: 0.5811 - accuracy: 0.8322\nEpoch 95/100\n1875/1875 [==============================] - 9s 5ms/step - loss: 0.5770 - accuracy: 0.8342\nEpoch 96/100\n1875/1875 [==============================] - 9s 5ms/step - loss: 0.5727 - accuracy: 0.8359\nEpoch 97/100\n1875/1875 [==============================] - 9s 5ms/step - loss: 0.5688 - accuracy: 0.8367\nEpoch 98/100\n1875/1875 [==============================] - 9s 5ms/step - loss: 0.5646 - accuracy: 0.8378\nEpoch 99/100\n1875/1875 [==============================] - 9s 5ms/step - loss: 0.5609 - accuracy: 0.8385\nEpoch 100/100\n1875/1875 [==============================] - 9s 5ms/step - loss: 0.5572 - accuracy: 0.8393\n",
     "output_type": "stream"
    },
    {
     "output_type": "execute_result",
     "execution_count": 37,
     "data": {
      "text/plain": "<keras.callbacks.History at 0x7f53ee21aa10>"
     },
     "metadata": {}
    }
   ],
   "execution_count": null
  },
  {
   "cell_type": "code",
   "source": "test_loss, test_acc = network.evaluate(test_data, test_label)\nprint(test_loss, test_acc)",
   "metadata": {
    "cell_id": "5164be51-d03f-479b-a18b-51e38edf741b",
    "tags": [],
    "deepnote_to_be_reexecuted": false,
    "source_hash": "530ab466",
    "execution_start": 1647726216557,
    "execution_millis": 886,
    "deepnote_cell_type": "code",
    "deepnote_cell_height": 150
   },
   "outputs": [
    {
     "name": "stdout",
     "text": "313/313 [==============================] - 1s 2ms/step - loss: 43562.9180 - accuracy: 0.2647\n43562.91796875 0.2646999955177307\n",
     "output_type": "stream"
    }
   ],
   "execution_count": null
  },
  {
   "cell_type": "markdown",
   "source": "<a style='text-decoration:none;line-height:16px;display:flex;color:#5B5B62;padding:10px;justify-content:end;' href='https://deepnote.com?utm_source=created-in-deepnote-cell&projectId=a7e9677b-38a7-42aa-8e71-96b40f08f505' target=\"_blank\">\n<img alt='Created in deepnote.com' style='display:inline;max-height:16px;margin:0px;margin-right:7.5px;' src='data:image/svg+xml;base64,PD94bWwgdmVyc2lvbj0iMS4wIiBlbmNvZGluZz0iVVRGLTgiPz4KPHN2ZyB3aWR0aD0iODBweCIgaGVpZ2h0PSI4MHB4IiB2aWV3Qm94PSIwIDAgODAgODAiIHZlcnNpb249IjEuMSIgeG1sbnM9Imh0dHA6Ly93d3cudzMub3JnLzIwMDAvc3ZnIiB4bWxuczp4bGluaz0iaHR0cDovL3d3dy53My5vcmcvMTk5OS94bGluayI+CiAgICA8IS0tIEdlbmVyYXRvcjogU2tldGNoIDU0LjEgKDc2NDkwKSAtIGh0dHBzOi8vc2tldGNoYXBwLmNvbSAtLT4KICAgIDx0aXRsZT5Hcm91cCAzPC90aXRsZT4KICAgIDxkZXNjPkNyZWF0ZWQgd2l0aCBTa2V0Y2guPC9kZXNjPgogICAgPGcgaWQ9IkxhbmRpbmciIHN0cm9rZT0ibm9uZSIgc3Ryb2tlLXdpZHRoPSIxIiBmaWxsPSJub25lIiBmaWxsLXJ1bGU9ImV2ZW5vZGQiPgogICAgICAgIDxnIGlkPSJBcnRib2FyZCIgdHJhbnNmb3JtPSJ0cmFuc2xhdGUoLTEyMzUuMDAwMDAwLCAtNzkuMDAwMDAwKSI+CiAgICAgICAgICAgIDxnIGlkPSJHcm91cC0zIiB0cmFuc2Zvcm09InRyYW5zbGF0ZSgxMjM1LjAwMDAwMCwgNzkuMDAwMDAwKSI+CiAgICAgICAgICAgICAgICA8cG9seWdvbiBpZD0iUGF0aC0yMCIgZmlsbD0iIzAyNjVCNCIgcG9pbnRzPSIyLjM3NjIzNzYyIDgwIDM4LjA0NzY2NjcgODAgNTcuODIxNzgyMiA3My44MDU3NTkyIDU3LjgyMTc4MjIgMzIuNzU5MjczOSAzOS4xNDAyMjc4IDMxLjY4MzE2ODMiPjwvcG9seWdvbj4KICAgICAgICAgICAgICAgIDxwYXRoIGQ9Ik0zNS4wMDc3MTgsODAgQzQyLjkwNjIwMDcsNzYuNDU0OTM1OCA0Ny41NjQ5MTY3LDcxLjU0MjI2NzEgNDguOTgzODY2LDY1LjI2MTk5MzkgQzUxLjExMjI4OTksNTUuODQxNTg0MiA0MS42NzcxNzk1LDQ5LjIxMjIyODQgMjUuNjIzOTg0Niw0OS4yMTIyMjg0IEMyNS40ODQ5Mjg5LDQ5LjEyNjg0NDggMjkuODI2MTI5Niw0My4yODM4MjQ4IDM4LjY0NzU4NjksMzEuNjgzMTY4MyBMNzIuODcxMjg3MSwzMi41NTQ0MjUgTDY1LjI4MDk3Myw2Ny42NzYzNDIxIEw1MS4xMTIyODk5LDc3LjM3NjE0NCBMMzUuMDA3NzE4LDgwIFoiIGlkPSJQYXRoLTIyIiBmaWxsPSIjMDAyODY4Ij48L3BhdGg+CiAgICAgICAgICAgICAgICA8cGF0aCBkPSJNMCwzNy43MzA0NDA1IEwyNy4xMTQ1MzcsMC4yNTcxMTE0MzYgQzYyLjM3MTUxMjMsLTEuOTkwNzE3MDEgODAsMTAuNTAwMzkyNyA4MCwzNy43MzA0NDA1IEM4MCw2NC45NjA0ODgyIDY0Ljc3NjUwMzgsNzkuMDUwMzQxNCAzNC4zMjk1MTEzLDgwIEM0Ny4wNTUzNDg5LDc3LjU2NzA4MDggNTMuNDE4MjY3Nyw3MC4zMTM2MTAzIDUzLjQxODI2NzcsNTguMjM5NTg4NSBDNTMuNDE4MjY3Nyw0MC4xMjg1NTU3IDM2LjMwMzk1NDQsMzcuNzMwNDQwNSAyNS4yMjc0MTcsMzcuNzMwNDQwNSBDMTcuODQzMDU4NiwzNy43MzA0NDA1IDkuNDMzOTE5NjYsMzcuNzMwNDQwNSAwLDM3LjczMDQ0MDUgWiIgaWQ9IlBhdGgtMTkiIGZpbGw9IiMzNzkzRUYiPjwvcGF0aD4KICAgICAgICAgICAgPC9nPgogICAgICAgIDwvZz4KICAgIDwvZz4KPC9zdmc+' > </img>\nCreated in <span style='font-weight:600;margin-left:4px;'>Deepnote</span></a>",
   "metadata": {
    "tags": [],
    "created_in_deepnote_cell": true,
    "deepnote_cell_type": "markdown"
   }
  }
 ],
 "nbformat": 4,
 "nbformat_minor": 2,
 "metadata": {
  "deepnoteSessionId": "dea8a0f5-35e3-4468-94eb-804ff5fc7baa",
  "kernelspec": {
   "display_name": "Python 3",
   "language": "python",
   "name": "python3"
  },
  "language_info": {
   "codemirror_mode": {
    "name": "ipython",
    "version": 3
   },
   "file_extension": ".py",
   "mimetype": "text/x-python",
   "name": "python",
   "nbconvert_exporter": "python",
   "pygments_lexer": "ipython3",
   "version": "3.7.5"
  },
  "deepnote_execution_queue": [],
  "deepnote_notebook_id": "0f460af1-1872-4aa4-804e-36716dbf15fd",
  "deepnote": {}
 }
}